{
 "cells": [
  {
   "cell_type": "markdown",
   "id": "bbae82ae",
   "metadata": {},
   "source": [
    "# Решение тестового задания от Bewise.ai"
   ]
  },
  {
   "cell_type": "markdown",
   "id": "9c286898",
   "metadata": {},
   "source": [
    "**Описание задания**\n",
    "\n",
    "Написать скрипт для парсинга диалогов из файла `test_data.csv`, который должен решать следующие задачи:\n",
    "* извлекать реплики с приветствием, в которых менеджер поздоровался;\n",
    "* извлекать реплики, где менеджер представил себя;\n",
    "* извлекать имя менеджера;\n",
    "* извлекать название компании;\n",
    "* извлекать реплики, где менеджер попрощался;\n",
    "* проверять требование к менеджеру, заключающее в том, чтобы в каждом диалоге он здоровался и прощался с клиентом."
   ]
  },
  {
   "cell_type": "markdown",
   "id": "37c3f492",
   "metadata": {},
   "source": [
    "## Загрузка и анализ данных"
   ]
  },
  {
   "cell_type": "code",
   "execution_count": 1,
   "id": "532c04a4",
   "metadata": {},
   "outputs": [],
   "source": [
    "# импорт необходимых библиотек\n",
    "import pandas as pd\n",
    "import numpy as np\n",
    "from ast import literal_eval\n",
    "\n",
    "import spacy\n",
    "import torch\n",
    "from glob import glob\n",
    "\n",
    "from sklearn.metrics import f1_score"
   ]
  },
  {
   "cell_type": "code",
   "execution_count": 2,
   "id": "76895015",
   "metadata": {},
   "outputs": [],
   "source": [
    "# загрузка и чтение данных\n",
    "df = pd.read_csv('./datasets/nlp/test_data.csv')"
   ]
  },
  {
   "cell_type": "code",
   "execution_count": 3,
   "id": "489f3214",
   "metadata": {},
   "outputs": [
    {
     "data": {
      "text/plain": [
       "(480, 4)"
      ]
     },
     "execution_count": 3,
     "metadata": {},
     "output_type": "execute_result"
    }
   ],
   "source": [
    "# оценка размера загруженного датасета\n",
    "df.shape"
   ]
  },
  {
   "cell_type": "code",
   "execution_count": 4,
   "id": "8cb60c8d",
   "metadata": {},
   "outputs": [
    {
     "data": {
      "text/html": [
       "<div>\n",
       "<style scoped>\n",
       "    .dataframe tbody tr th:only-of-type {\n",
       "        vertical-align: middle;\n",
       "    }\n",
       "\n",
       "    .dataframe tbody tr th {\n",
       "        vertical-align: top;\n",
       "    }\n",
       "\n",
       "    .dataframe thead th {\n",
       "        text-align: right;\n",
       "    }\n",
       "</style>\n",
       "<table border=\"1\" class=\"dataframe\">\n",
       "  <thead>\n",
       "    <tr style=\"text-align: right;\">\n",
       "      <th></th>\n",
       "      <th>dlg_id</th>\n",
       "      <th>line_n</th>\n",
       "      <th>role</th>\n",
       "      <th>text</th>\n",
       "    </tr>\n",
       "  </thead>\n",
       "  <tbody>\n",
       "    <tr>\n",
       "      <th>0</th>\n",
       "      <td>0</td>\n",
       "      <td>0</td>\n",
       "      <td>manager</td>\n",
       "      <td>Алло</td>\n",
       "    </tr>\n",
       "    <tr>\n",
       "      <th>1</th>\n",
       "      <td>0</td>\n",
       "      <td>1</td>\n",
       "      <td>client</td>\n",
       "      <td>Алло здравствуйте</td>\n",
       "    </tr>\n",
       "    <tr>\n",
       "      <th>2</th>\n",
       "      <td>0</td>\n",
       "      <td>2</td>\n",
       "      <td>manager</td>\n",
       "      <td>Добрый день</td>\n",
       "    </tr>\n",
       "    <tr>\n",
       "      <th>3</th>\n",
       "      <td>0</td>\n",
       "      <td>3</td>\n",
       "      <td>client</td>\n",
       "      <td>Меня зовут ангелина компания диджитал бизнес з...</td>\n",
       "    </tr>\n",
       "    <tr>\n",
       "      <th>4</th>\n",
       "      <td>0</td>\n",
       "      <td>4</td>\n",
       "      <td>manager</td>\n",
       "      <td>Ага</td>\n",
       "    </tr>\n",
       "  </tbody>\n",
       "</table>\n",
       "</div>"
      ],
      "text/plain": [
       "   dlg_id  line_n     role                                               text\n",
       "0       0       0  manager                                               Алло\n",
       "1       0       1   client                                  Алло здравствуйте\n",
       "2       0       2  manager                                        Добрый день\n",
       "3       0       3   client  Меня зовут ангелина компания диджитал бизнес з...\n",
       "4       0       4  manager                                                Ага"
      ]
     },
     "execution_count": 4,
     "metadata": {},
     "output_type": "execute_result"
    }
   ],
   "source": [
    "# просмотр первых строк данных\n",
    "df.head(5)"
   ]
  },
  {
   "cell_type": "code",
   "execution_count": 5,
   "id": "8008dc99",
   "metadata": {},
   "outputs": [
    {
     "name": "stdout",
     "output_type": "stream",
     "text": [
      "<class 'pandas.core.frame.DataFrame'>\n",
      "RangeIndex: 480 entries, 0 to 479\n",
      "Data columns (total 4 columns):\n",
      " #   Column  Non-Null Count  Dtype \n",
      "---  ------  --------------  ----- \n",
      " 0   dlg_id  480 non-null    int64 \n",
      " 1   line_n  480 non-null    int64 \n",
      " 2   role    480 non-null    object\n",
      " 3   text    480 non-null    object\n",
      "dtypes: int64(2), object(2)\n",
      "memory usage: 15.1+ KB\n"
     ]
    }
   ],
   "source": [
    "# просмотр сводной информации о датасете\n",
    "df.info()"
   ]
  },
  {
   "cell_type": "code",
   "execution_count": 6,
   "id": "bc045fce",
   "metadata": {},
   "outputs": [
    {
     "data": {
      "text/plain": [
       "dlg_id    0\n",
       "line_n    0\n",
       "role      0\n",
       "text      0\n",
       "dtype: int64"
      ]
     },
     "execution_count": 6,
     "metadata": {},
     "output_type": "execute_result"
    }
   ],
   "source": [
    "# проверка наличия пропущенных значений\n",
    "df.isna().sum()"
   ]
  },
  {
   "cell_type": "code",
   "execution_count": 7,
   "id": "62eeef5f",
   "metadata": {},
   "outputs": [
    {
     "data": {
      "text/plain": [
       "0"
      ]
     },
     "execution_count": 7,
     "metadata": {},
     "output_type": "execute_result"
    }
   ],
   "source": [
    "# проверка наличия дубликатов\n",
    "df.duplicated().sum()"
   ]
  },
  {
   "cell_type": "markdown",
   "id": "c6d29cb4",
   "metadata": {},
   "source": [
    "### Выводы по анализу данных"
   ]
  },
  {
   "cell_type": "markdown",
   "id": "a8708257",
   "metadata": {},
   "source": [
    "> * Исходные данные представлены в виде таблицы, содержащей `480` записей в виде таблицы со следующими столбцами:\n",
    ">     * `dlg_id` - id (порядковый номер) диалога\n",
    ">     * `line_n` - порядковый номер строки с репликой со сквозной нумерацией\n",
    ">     * `role`   - сторона, принимающая участие в диалоге (`client` или `manager`)\n",
    ">     * `text`   - текст реплики в диалоге\n",
    "> * Всего в полученных данных обнаружено `6` уникальных диалогов.\n",
    "> * Дубликатов и пропущенных значений в исходном наборе данных нет.\n",
    "> * Судя по отсутствию текстовой разметки, данные получены в результате работы `STT` (`speech-to-text`) модели.\n",
    "> * Задача, в целом, сводится к выделению необходимых именованных сущностей (`NER`) из реплик.\n",
    "> * В качестве метрики будем использовать *F1*-меру как гармоническое среднее между точностью (*precision*) и полнотой (*recall*), вычисляемую по формуле:\n",
    "$$\n",
    "F = 2 ∙ \\frac{Recall × Precision}{Recall + Precision}\n",
    "$$\n",
    ">\n",
    ">\n",
    "> * Интерпретировать метрики *precision* и *recall* в данной задаче можно следующим образом:\n",
    ">     - точность (*precision*) будет тем выше, чем меньше ложноположительных сущностей NER (*FP*) определит модель, т.е. чем меньше неименованных сущностей будет установлено как именованные;\n",
    ">     - полнота (*recall*) будет тем выше, чем меньше ложноотрицательных сущностей NER (*FN*) установит модель, т.е. чем меньше она их пропустит."
   ]
  },
  {
   "cell_type": "markdown",
   "id": "78c33496",
   "metadata": {},
   "source": [
    "## Использование моделей для решения NER задачи"
   ]
  },
  {
   "cell_type": "markdown",
   "id": "9d9172bf",
   "metadata": {},
   "source": [
    "Так как получен датасет небольшого размера, поставленную задачу можно было решить с помощью `rule-based` подхода, но он плохо масштабируется при увеличении размеров анализируемых данных, так как количество правил для выделения именованных сущностей будет постоянно расти вместе с трудозатратами на их обновление."
   ]
  },
  {
   "cell_type": "markdown",
   "id": "de819b0b",
   "metadata": {},
   "source": [
    "Поэтому, от него сразу было решено отказаться и для выделения именованных сущностей `NER` использовать библиотеку `spaCy` в основе которой лежит применение свёрточных нейронных сетей для обработки текстов."
   ]
  },
  {
   "cell_type": "markdown",
   "id": "04e49c82",
   "metadata": {},
   "source": [
    "За основу была взята предобученная стандартная модель `ru_core_news_lg`."
   ]
  },
  {
   "cell_type": "markdown",
   "id": "5133d7e1",
   "metadata": {},
   "source": [
    "Для решения поставленной задачи модель должна выделять три базовых типа именованных сущностей из текста:\n",
    "* `PERSON` - имя менеджера;\n",
    "* `COMPANY` - название компании;\n",
    "* `EVENT` - событие (приветствие или прощание).\n",
    "\n",
    "По качеству выделения данных сущностей и будет проводится оценка модели."
   ]
  },
  {
   "cell_type": "markdown",
   "id": "e86b2280",
   "metadata": {},
   "source": [
    "### Разметка данных для последующей оценки качества моделей"
   ]
  },
  {
   "cell_type": "markdown",
   "id": "0462f33d",
   "metadata": {},
   "source": [
    "Чтобы иметь возможность оценить по *F1*-мере качество работы различных моделей, была произведена ручная разметка датасета с использованием библиотеки `spacy_annotator` с помощью кода, пример которого приведён ниже в закомментированном виде."
   ]
  },
  {
   "cell_type": "code",
   "execution_count": 8,
   "id": "5a759482",
   "metadata": {},
   "outputs": [],
   "source": [
    "#import spacy_annotator as spa\n",
    "\n",
    "#nlp = spacy.load('ru_core_news_lg')\n",
    "#annotator = spa.Annotator(labels=['COMPANY', 'PERSON', 'EVENT'], model=nlp)\n",
    "#df_labels = annotator.annotate(df=df[['text']], col_text='text', shuffle=False)\n",
    "\n",
    "#df_labels.to_csv('./Documents/NER2/text_labels_without_indexes.csv', index=False)"
   ]
  },
  {
   "cell_type": "markdown",
   "id": "97f25d6c",
   "metadata": {},
   "source": [
    "Размеченные данные сохранены в файл `text_labels_without_indexes.csv` и выглядят следующим образом."
   ]
  },
  {
   "cell_type": "code",
   "execution_count": 9,
   "id": "e4aaad59",
   "metadata": {},
   "outputs": [
    {
     "data": {
      "text/html": [
       "<div>\n",
       "<style scoped>\n",
       "    .dataframe tbody tr th:only-of-type {\n",
       "        vertical-align: middle;\n",
       "    }\n",
       "\n",
       "    .dataframe tbody tr th {\n",
       "        vertical-align: top;\n",
       "    }\n",
       "\n",
       "    .dataframe thead th {\n",
       "        text-align: right;\n",
       "    }\n",
       "</style>\n",
       "<table border=\"1\" class=\"dataframe\">\n",
       "  <thead>\n",
       "    <tr style=\"text-align: right;\">\n",
       "      <th></th>\n",
       "      <th>text</th>\n",
       "      <th>annotations</th>\n",
       "    </tr>\n",
       "  </thead>\n",
       "  <tbody>\n",
       "    <tr>\n",
       "      <th>0</th>\n",
       "      <td>Алло</td>\n",
       "      <td>('Алло', {'entities': []})</td>\n",
       "    </tr>\n",
       "    <tr>\n",
       "      <th>1</th>\n",
       "      <td>Алло здравствуйте</td>\n",
       "      <td>('Алло здравствуйте', {'entities': [(5, 17, 'E...</td>\n",
       "    </tr>\n",
       "    <tr>\n",
       "      <th>2</th>\n",
       "      <td>Добрый день</td>\n",
       "      <td>('Добрый день', {'entities': [(0, 11, 'EVENT')]})</td>\n",
       "    </tr>\n",
       "    <tr>\n",
       "      <th>3</th>\n",
       "      <td>Меня зовут ангелина компания диджитал бизнес з...</td>\n",
       "      <td>('Меня зовут ангелина компания диджитал бизнес...</td>\n",
       "    </tr>\n",
       "    <tr>\n",
       "      <th>4</th>\n",
       "      <td>Ага</td>\n",
       "      <td>('Ага', {'entities': []})</td>\n",
       "    </tr>\n",
       "  </tbody>\n",
       "</table>\n",
       "</div>"
      ],
      "text/plain": [
       "                                                text  \\\n",
       "0                                               Алло   \n",
       "1                                  Алло здравствуйте   \n",
       "2                                        Добрый день   \n",
       "3  Меня зовут ангелина компания диджитал бизнес з...   \n",
       "4                                                Ага   \n",
       "\n",
       "                                         annotations  \n",
       "0                         ('Алло', {'entities': []})  \n",
       "1  ('Алло здравствуйте', {'entities': [(5, 17, 'E...  \n",
       "2  ('Добрый день', {'entities': [(0, 11, 'EVENT')]})  \n",
       "3  ('Меня зовут ангелина компания диджитал бизнес...  \n",
       "4                          ('Ага', {'entities': []})  "
      ]
     },
     "execution_count": 9,
     "metadata": {},
     "output_type": "execute_result"
    }
   ],
   "source": [
    "# просмотр первых строк размеченных данных\n",
    "df_marked = pd.read_csv('./Documents/NER2/text_labels_without_indexes.csv')\n",
    "df_marked.head()"
   ]
  },
  {
   "cell_type": "markdown",
   "id": "5de1d03a",
   "metadata": {},
   "source": [
    "Для удобства последующего расчёта выбранной метрики качества моделей добавим соотвествующие метки для трёх классов сущностей (`event`, `company`, `person`) к исходному датасету."
   ]
  },
  {
   "cell_type": "code",
   "execution_count": 10,
   "id": "95c2fe93",
   "metadata": {},
   "outputs": [],
   "source": [
    "# конвертация данных из строкового представления в список\n",
    "marked_list = df_marked['annotations'].apply(lambda x: literal_eval(str(x))).values"
   ]
  },
  {
   "cell_type": "code",
   "execution_count": 11,
   "id": "10669cfc",
   "metadata": {},
   "outputs": [],
   "source": [
    "# добавление меток классов именованных сущностей в исходный датасет\n",
    "j = 0\n",
    "for entities in marked_list:\n",
    "    if len(entities[1]['entities']):\n",
    "        for ent in entities[1]['entities']:\n",
    "            if ent[2]=='EVENT':\n",
    "                df.loc[j, 'event'] = 1\n",
    "            elif ent[2]=='COMPANY':\n",
    "                df.loc[j, 'company'] = 1\n",
    "            elif ent[2]=='PERSON':\n",
    "                df.loc[j, 'person'] = 1\n",
    "    j+=1\n",
    "    \n",
    "df[['event', 'company', 'person']] = df[['event', 'company', 'person']].fillna(0)"
   ]
  },
  {
   "cell_type": "code",
   "execution_count": 12,
   "id": "037e6e3e",
   "metadata": {},
   "outputs": [
    {
     "data": {
      "text/html": [
       "<div>\n",
       "<style scoped>\n",
       "    .dataframe tbody tr th:only-of-type {\n",
       "        vertical-align: middle;\n",
       "    }\n",
       "\n",
       "    .dataframe tbody tr th {\n",
       "        vertical-align: top;\n",
       "    }\n",
       "\n",
       "    .dataframe thead th {\n",
       "        text-align: right;\n",
       "    }\n",
       "</style>\n",
       "<table border=\"1\" class=\"dataframe\">\n",
       "  <thead>\n",
       "    <tr style=\"text-align: right;\">\n",
       "      <th></th>\n",
       "      <th>dlg_id</th>\n",
       "      <th>line_n</th>\n",
       "      <th>role</th>\n",
       "      <th>text</th>\n",
       "      <th>event</th>\n",
       "      <th>company</th>\n",
       "      <th>person</th>\n",
       "    </tr>\n",
       "  </thead>\n",
       "  <tbody>\n",
       "    <tr>\n",
       "      <th>0</th>\n",
       "      <td>0</td>\n",
       "      <td>0</td>\n",
       "      <td>manager</td>\n",
       "      <td>Алло</td>\n",
       "      <td>0.0</td>\n",
       "      <td>0.0</td>\n",
       "      <td>0.0</td>\n",
       "    </tr>\n",
       "    <tr>\n",
       "      <th>1</th>\n",
       "      <td>0</td>\n",
       "      <td>1</td>\n",
       "      <td>client</td>\n",
       "      <td>Алло здравствуйте</td>\n",
       "      <td>1.0</td>\n",
       "      <td>0.0</td>\n",
       "      <td>0.0</td>\n",
       "    </tr>\n",
       "    <tr>\n",
       "      <th>2</th>\n",
       "      <td>0</td>\n",
       "      <td>2</td>\n",
       "      <td>manager</td>\n",
       "      <td>Добрый день</td>\n",
       "      <td>1.0</td>\n",
       "      <td>0.0</td>\n",
       "      <td>0.0</td>\n",
       "    </tr>\n",
       "    <tr>\n",
       "      <th>3</th>\n",
       "      <td>0</td>\n",
       "      <td>3</td>\n",
       "      <td>client</td>\n",
       "      <td>Меня зовут ангелина компания диджитал бизнес з...</td>\n",
       "      <td>0.0</td>\n",
       "      <td>1.0</td>\n",
       "      <td>1.0</td>\n",
       "    </tr>\n",
       "    <tr>\n",
       "      <th>4</th>\n",
       "      <td>0</td>\n",
       "      <td>4</td>\n",
       "      <td>manager</td>\n",
       "      <td>Ага</td>\n",
       "      <td>0.0</td>\n",
       "      <td>0.0</td>\n",
       "      <td>0.0</td>\n",
       "    </tr>\n",
       "  </tbody>\n",
       "</table>\n",
       "</div>"
      ],
      "text/plain": [
       "   dlg_id  line_n     role                                               text  \\\n",
       "0       0       0  manager                                               Алло   \n",
       "1       0       1   client                                  Алло здравствуйте   \n",
       "2       0       2  manager                                        Добрый день   \n",
       "3       0       3   client  Меня зовут ангелина компания диджитал бизнес з...   \n",
       "4       0       4  manager                                                Ага   \n",
       "\n",
       "   event  company  person  \n",
       "0    0.0      0.0     0.0  \n",
       "1    1.0      0.0     0.0  \n",
       "2    1.0      0.0     0.0  \n",
       "3    0.0      1.0     1.0  \n",
       "4    0.0      0.0     0.0  "
      ]
     },
     "execution_count": 12,
     "metadata": {},
     "output_type": "execute_result"
    }
   ],
   "source": [
    "# просмотр полученного результата\n",
    "df.head()"
   ]
  },
  {
   "cell_type": "markdown",
   "id": "10fc0b63",
   "metadata": {},
   "source": [
    "### Baseline решение на основе библиотеки spaCy"
   ]
  },
  {
   "cell_type": "markdown",
   "id": "e3fad82b",
   "metadata": {},
   "source": [
    "В качестве *baseline* решения будем использовать результаты работы предобученной модели для русского языка из библиотеки `spaCy`."
   ]
  },
  {
   "cell_type": "code",
   "execution_count": 13,
   "id": "f01cbe30",
   "metadata": {},
   "outputs": [],
   "source": [
    "# загрузка стандартной модели\n",
    "nlp = spacy.load('ru_core_news_lg')"
   ]
  },
  {
   "cell_type": "code",
   "execution_count": 14,
   "id": "b8e1c266",
   "metadata": {},
   "outputs": [
    {
     "name": "stdout",
     "output_type": "stream",
     "text": [
      "3 ангелина PER\n",
      "111 ангелина PER\n",
      "159 денис дэ е эн PER\n",
      "167 ангелина PER\n",
      "251 максим PER\n",
      "251 китобизнес PER\n",
      "253 анастасия PER\n",
      "282 амо ORG\n",
      "285 амо си эр эм ORG\n",
      "319 айдар PER\n",
      "341 дима PER\n",
      "348 ла ла ла PER\n",
      "358 анастасия PER\n",
      "410 амо ORG\n",
      "438 вячеслав PER\n",
      "444 максим PER\n"
     ]
    }
   ],
   "source": [
    "# получение именованных сущностей и добавление соответствующих меток в датасет для последующего расчёта метрик\n",
    "line_n = []\n",
    "for i, s in enumerate(df['text'].values):\n",
    "    doc = nlp(s)\n",
    "    if doc.ents:\n",
    "        for ent in doc.ents:\n",
    "            print(i, ent.text, ent.label_)\n",
    "            if ent.label_=='EVT':\n",
    "                df.loc[i, 'event_mod'] = 1\n",
    "            elif ent.label_=='ORG':\n",
    "                df.loc[i, 'company_mod'] = 1\n",
    "            elif ent.label_=='PER':\n",
    "                df.loc[i, 'person_mod'] = 1\n",
    "            line_n.append(i)\n",
    "            \n",
    "df[['company_mod', 'person_mod']] = df[['company_mod', 'person_mod']].fillna(0)"
   ]
  },
  {
   "cell_type": "code",
   "execution_count": 15,
   "id": "ad4b5ff6",
   "metadata": {},
   "outputs": [
    {
     "data": {
      "text/html": [
       "<div>\n",
       "<style scoped>\n",
       "    .dataframe tbody tr th:only-of-type {\n",
       "        vertical-align: middle;\n",
       "    }\n",
       "\n",
       "    .dataframe tbody tr th {\n",
       "        vertical-align: top;\n",
       "    }\n",
       "\n",
       "    .dataframe thead th {\n",
       "        text-align: right;\n",
       "    }\n",
       "</style>\n",
       "<table border=\"1\" class=\"dataframe\">\n",
       "  <thead>\n",
       "    <tr style=\"text-align: right;\">\n",
       "      <th></th>\n",
       "      <th>F1</th>\n",
       "    </tr>\n",
       "  </thead>\n",
       "  <tbody>\n",
       "    <tr>\n",
       "      <th>PER</th>\n",
       "      <td>0.750</td>\n",
       "    </tr>\n",
       "    <tr>\n",
       "      <th>ORG</th>\n",
       "      <td>0.000</td>\n",
       "    </tr>\n",
       "    <tr>\n",
       "      <th>MEAN</th>\n",
       "      <td>0.375</td>\n",
       "    </tr>\n",
       "  </tbody>\n",
       "</table>\n",
       "</div>"
      ],
      "text/plain": [
       "         F1\n",
       "PER   0.750\n",
       "ORG   0.000\n",
       "MEAN  0.375"
      ]
     },
     "execution_count": 15,
     "metadata": {},
     "output_type": "execute_result"
    }
   ],
   "source": [
    "# вычисление метрик для baseline модели\n",
    "df_res = pd.DataFrame([f1_score(df['person'], df['person_mod']), f1_score(df['company'], df['company_mod']), 0],\n",
    "             index=['PER', 'ORG', 'MEAN'], columns=['F1'])\n",
    "df_res.loc['MEAN', 'F1'] = df_res.iloc[:2, 0].mean()\n",
    "df_res"
   ]
  },
  {
   "cell_type": "markdown",
   "id": "a78d1f34",
   "metadata": {},
   "source": [
    "> * *Baseline* решение на основе предобученной модели для библиотеки `spaCy` позволило достичь среднего значения между тремя видами сущностей по *F1*-мере, равного `0.38`.\n",
    "> * Модель достаточно хорошо справляется с выделением именованных сущностей в виде имён (`PER`) со значением метрики *F1* в данной категории, равным `0.75` и совсем не определяет сущности в виде названий компаний (`ORG`) и событий в виде приветствий и прощаний (`EVT`)."
   ]
  },
  {
   "cell_type": "markdown",
   "id": "293b51be",
   "metadata": {},
   "source": [
    "### Добавление разметки в реплики с помощью библиотеки silero"
   ]
  },
  {
   "cell_type": "markdown",
   "id": "0e23ceec",
   "metadata": {},
   "source": [
    "Сопоставление ожидаемых результатов с полученными для *baseline* модели показало, что качество выделения сущностей неудовлетворительное.\n",
    "\n",
    "Так как одним из признаков выделения именованных сущностей является капитализация первого символа в слове, а исследуемый датасет получен на основе автоматического преобразования речи в текст типы `speech-to-text` и по этой причине лишён данного признака, то появилась гипотеза, что разметка текста путём замены букв на заглавные и дополнительная расстановка знаков препинания сможет улучшить решение поставленной `NER` задачи.\n",
    "\n",
    "Для добавление разметки была использована библиотека `silero`."
   ]
  },
  {
   "cell_type": "code",
   "execution_count": 16,
   "id": "6052d5c4",
   "metadata": {},
   "outputs": [],
   "source": [
    "from silero import silero_stt, silero_tts, silero_te"
   ]
  },
  {
   "cell_type": "code",
   "execution_count": 17,
   "id": "afba6d97",
   "metadata": {},
   "outputs": [
    {
     "name": "stderr",
     "output_type": "stream",
     "text": [
      "Using cache found in C:\\Users\\Oleg/.cache\\torch\\hub\\snakers4_silero-models_master\n"
     ]
    }
   ],
   "source": [
    "# загрузка модели\n",
    "model, example_texts, languages, punct, apply_te = torch.hub.load(repo_or_dir='snakers4/silero-models',\n",
    "                                                                  model='silero_te')"
   ]
  },
  {
   "cell_type": "code",
   "execution_count": 18,
   "id": "fb86b9f8",
   "metadata": {},
   "outputs": [
    {
     "name": "stdout",
     "output_type": "stream",
     "text": [
      "+\n",
      "+ месяц 2 3 все что угодно\n"
     ]
    },
    {
     "data": {
      "text/html": [
       "<div>\n",
       "<style scoped>\n",
       "    .dataframe tbody tr th:only-of-type {\n",
       "        vertical-align: middle;\n",
       "    }\n",
       "\n",
       "    .dataframe tbody tr th {\n",
       "        vertical-align: top;\n",
       "    }\n",
       "\n",
       "    .dataframe thead th {\n",
       "        text-align: right;\n",
       "    }\n",
       "</style>\n",
       "<table border=\"1\" class=\"dataframe\">\n",
       "  <thead>\n",
       "    <tr style=\"text-align: right;\">\n",
       "      <th></th>\n",
       "      <th>dlg_id</th>\n",
       "      <th>line_n</th>\n",
       "      <th>role</th>\n",
       "      <th>text</th>\n",
       "      <th>event</th>\n",
       "      <th>company</th>\n",
       "      <th>person</th>\n",
       "      <th>person_mod</th>\n",
       "      <th>company_mod</th>\n",
       "      <th>re_text</th>\n",
       "    </tr>\n",
       "  </thead>\n",
       "  <tbody>\n",
       "    <tr>\n",
       "      <th>0</th>\n",
       "      <td>0</td>\n",
       "      <td>0</td>\n",
       "      <td>manager</td>\n",
       "      <td>Алло</td>\n",
       "      <td>0.0</td>\n",
       "      <td>0.0</td>\n",
       "      <td>0.0</td>\n",
       "      <td>0.0</td>\n",
       "      <td>0.0</td>\n",
       "      <td>Алло</td>\n",
       "    </tr>\n",
       "    <tr>\n",
       "      <th>1</th>\n",
       "      <td>0</td>\n",
       "      <td>1</td>\n",
       "      <td>client</td>\n",
       "      <td>Алло здравствуйте</td>\n",
       "      <td>1.0</td>\n",
       "      <td>0.0</td>\n",
       "      <td>0.0</td>\n",
       "      <td>0.0</td>\n",
       "      <td>0.0</td>\n",
       "      <td>Алло здравствуйте!</td>\n",
       "    </tr>\n",
       "    <tr>\n",
       "      <th>2</th>\n",
       "      <td>0</td>\n",
       "      <td>2</td>\n",
       "      <td>manager</td>\n",
       "      <td>Добрый день</td>\n",
       "      <td>1.0</td>\n",
       "      <td>0.0</td>\n",
       "      <td>0.0</td>\n",
       "      <td>0.0</td>\n",
       "      <td>0.0</td>\n",
       "      <td>Добрый день!</td>\n",
       "    </tr>\n",
       "    <tr>\n",
       "      <th>3</th>\n",
       "      <td>0</td>\n",
       "      <td>3</td>\n",
       "      <td>client</td>\n",
       "      <td>Меня зовут ангелина компания диджитал бизнес з...</td>\n",
       "      <td>0.0</td>\n",
       "      <td>1.0</td>\n",
       "      <td>1.0</td>\n",
       "      <td>1.0</td>\n",
       "      <td>0.0</td>\n",
       "      <td>Меня зовут Ангелина, компания диджитал бизнес,...</td>\n",
       "    </tr>\n",
       "    <tr>\n",
       "      <th>4</th>\n",
       "      <td>0</td>\n",
       "      <td>4</td>\n",
       "      <td>manager</td>\n",
       "      <td>Ага</td>\n",
       "      <td>0.0</td>\n",
       "      <td>0.0</td>\n",
       "      <td>0.0</td>\n",
       "      <td>0.0</td>\n",
       "      <td>0.0</td>\n",
       "      <td>Ага</td>\n",
       "    </tr>\n",
       "  </tbody>\n",
       "</table>\n",
       "</div>"
      ],
      "text/plain": [
       "   dlg_id  line_n     role                                               text  \\\n",
       "0       0       0  manager                                               Алло   \n",
       "1       0       1   client                                  Алло здравствуйте   \n",
       "2       0       2  manager                                        Добрый день   \n",
       "3       0       3   client  Меня зовут ангелина компания диджитал бизнес з...   \n",
       "4       0       4  manager                                                Ага   \n",
       "\n",
       "   event  company  person  person_mod  company_mod  \\\n",
       "0    0.0      0.0     0.0         0.0          0.0   \n",
       "1    1.0      0.0     0.0         0.0          0.0   \n",
       "2    1.0      0.0     0.0         0.0          0.0   \n",
       "3    0.0      1.0     1.0         1.0          0.0   \n",
       "4    0.0      0.0     0.0         0.0          0.0   \n",
       "\n",
       "                                             re_text  \n",
       "0                                               Алло  \n",
       "1                                 Алло здравствуйте!  \n",
       "2                                       Добрый день!  \n",
       "3  Меня зовут Ангелина, компания диджитал бизнес,...  \n",
       "4                                                Ага  "
      ]
     },
     "execution_count": 18,
     "metadata": {},
     "output_type": "execute_result"
    }
   ],
   "source": [
    "# рекапитализация и репунктуация исходных текстов\n",
    "punc = []\n",
    "for t in df['text'].values:\n",
    "    try:\n",
    "        punc.append(apply_te(t.lower(), lan='ru'))\n",
    "    except:\n",
    "        print(t)\n",
    "        punc.append(t)\n",
    "df['re_text'] = punc\n",
    "\n",
    "# оценка полученного результата\n",
    "df.head(5)"
   ]
  },
  {
   "cell_type": "code",
   "execution_count": 19,
   "id": "bac13ac6",
   "metadata": {},
   "outputs": [],
   "source": [
    "# обнуление показателей работы модели\n",
    "df[['company_mod', 'person_mod']] = 0"
   ]
  },
  {
   "cell_type": "markdown",
   "id": "d70ba5b6",
   "metadata": {},
   "source": [
    "Проверка того, насколько разметка текста повлияла на качество выделения сущностей."
   ]
  },
  {
   "cell_type": "code",
   "execution_count": 20,
   "id": "c66f0ac4",
   "metadata": {},
   "outputs": [
    {
     "name": "stdout",
     "output_type": "stream",
     "text": [
      "3 Ангелина PER\n",
      "111 Ангелина PER\n",
      "137 Админа PER\n",
      "158 Ру PER\n",
      "159 Инфо Денис Дэ е эн PER\n",
      "167 Ангелина PER\n",
      "175 20.% ORG\n",
      "196 Ватсапа PER\n",
      "205 Да LOC\n",
      "213 Кэшбэка PER\n",
      "229 астана LOC\n",
      "229 Кз PER\n",
      "232 Жесупов Собачка PER\n",
      "250 Алло Дмитрий PER\n",
      "251 Максим PER\n",
      "251 Китобизнес PER\n",
      "253 Дмитрий PER\n",
      "253 Анастасия PER\n",
      "259 Сэйл PER\n",
      "264 Мессенджер PER\n",
      "268 Может PER\n",
      "282 амо ORG\n",
      "282 Аналитика PER\n",
      "285 Си Эр Эм PER\n",
      "319 айдар PER\n",
      "338 Анастасия PER\n",
      "348 Ла ла ла PER\n",
      "351 Эксель LOC\n",
      "358 Анастасия PER\n",
      "362 Тарифа PER\n",
      "410 амо ORG\n",
      "424 Выходит PER\n",
      "426 Блин PER\n",
      "438 Вячеслав PER\n",
      "444 максим PER\n",
      "449 Я PER\n",
      "472 Дмитрий PER\n"
     ]
    }
   ],
   "source": [
    "# получение именовынных сущностей после обработки исходных текстов\n",
    "line_n = []\n",
    "for i, s in enumerate(df['re_text'].values):\n",
    "    doc = nlp(s)\n",
    "    if doc.ents:\n",
    "        for ent in doc.ents:\n",
    "            print(i, ent.text, ent.label_)\n",
    "            if ent.label_=='EVT':\n",
    "                df.loc[i, 'event_mod'] = 1\n",
    "            elif ent.label_=='ORG':\n",
    "                df.loc[i, 'company_mod'] = 1\n",
    "            elif ent.label_=='PER':\n",
    "                df.loc[i, 'person_mod'] = 1\n",
    "            line_n.append(i)\n",
    "            \n",
    "df[['company_mod', 'person_mod']] = df[['company_mod', 'person_mod']].fillna(0)"
   ]
  },
  {
   "cell_type": "code",
   "execution_count": 21,
   "id": "4ae0ec1a",
   "metadata": {},
   "outputs": [
    {
     "data": {
      "text/html": [
       "<div>\n",
       "<style scoped>\n",
       "    .dataframe tbody tr th:only-of-type {\n",
       "        vertical-align: middle;\n",
       "    }\n",
       "\n",
       "    .dataframe tbody tr th {\n",
       "        vertical-align: top;\n",
       "    }\n",
       "\n",
       "    .dataframe thead th {\n",
       "        text-align: right;\n",
       "    }\n",
       "</style>\n",
       "<table border=\"1\" class=\"dataframe\">\n",
       "  <thead>\n",
       "    <tr style=\"text-align: right;\">\n",
       "      <th></th>\n",
       "      <th>F1</th>\n",
       "    </tr>\n",
       "  </thead>\n",
       "  <tbody>\n",
       "    <tr>\n",
       "      <th>PER</th>\n",
       "      <td>0.585366</td>\n",
       "    </tr>\n",
       "    <tr>\n",
       "      <th>ORG</th>\n",
       "      <td>0.000000</td>\n",
       "    </tr>\n",
       "    <tr>\n",
       "      <th>MEAN</th>\n",
       "      <td>0.292683</td>\n",
       "    </tr>\n",
       "  </tbody>\n",
       "</table>\n",
       "</div>"
      ],
      "text/plain": [
       "            F1\n",
       "PER   0.585366\n",
       "ORG   0.000000\n",
       "MEAN  0.292683"
      ]
     },
     "execution_count": 21,
     "metadata": {},
     "output_type": "execute_result"
    }
   ],
   "source": [
    "# вычисление метрик для модели с добавлением разметки\n",
    "df_res = pd.DataFrame([f1_score(df['person'], df['person_mod']), \n",
    "                       f1_score(df['company'], df['company_mod']), 0],\n",
    "             index=['PER', 'ORG', 'MEAN'], columns=['F1'])\n",
    "df_res.loc['MEAN', 'F1'] = df_res.iloc[:2, 0].mean()\n",
    "df_res"
   ]
  },
  {
   "cell_type": "markdown",
   "id": "d00700c6",
   "metadata": {},
   "source": [
    "> * Попытка усовершенствования модели методом добавления разметки в реплики ухудшило среднее значение по *F1*-мере до величины `0.29`, так как вместе с улучшением выделения именованных сущностей также добавилось существенное количество ложноположительных (`False Positive`) результатов.\n",
    "> * При этом данная модель также не справляется с задачей выделения сущностей в виде названий компаний (`ORG`) и событий в виде приветствий и прощаний (`EVT`)."
   ]
  },
  {
   "cell_type": "markdown",
   "id": "ecfc4387",
   "metadata": {},
   "source": [
    "### Разметка исходных данных и дообучение модели spaCy"
   ]
  },
  {
   "cell_type": "markdown",
   "id": "7e9f6563",
   "metadata": {},
   "source": [
    "Для устранения данного недостатка было проведено её дообучение на размеченных данных из файла `text_labels_without_indexes.csv`. После этого дообученная модель использована для решения задачи."
   ]
  },
  {
   "cell_type": "code",
   "execution_count": 22,
   "id": "4decbac4",
   "metadata": {},
   "outputs": [],
   "source": [
    "# загрузка дообученной модели\n",
    "nlp = spacy.load('./Documents/NER2/pipeline2')"
   ]
  },
  {
   "cell_type": "code",
   "execution_count": 23,
   "id": "d311a017",
   "metadata": {},
   "outputs": [
    {
     "name": "stdout",
     "output_type": "stream",
     "text": [
      "1 здравствуйте EVENT\n",
      "2 Добрый день EVENT\n",
      "3 Ангелина PERSON\n",
      "3 диджитал бизнес COMPANY\n",
      "108 до свидания EVENT\n",
      "109 здравствуйте EVENT\n",
      "110 здравствуйте EVENT\n",
      "111 Ангелина PERSON\n",
      "111 диджитал бизнес COMPANY\n",
      "159 Денис Дэ EVENT\n",
      "162 всего хорошего EVENT\n",
      "163 До свидания EVENT\n",
      "165 Здравствуйте EVENT\n",
      "166 здравствуйте EVENT\n",
      "167 Ангелина PERSON\n",
      "167 диджитал бизнес COMPANY\n",
      "177 Диджитал бизнес COMPANY\n",
      "249 Добрый день EVENT\n",
      "250 Дмитрий PERSON\n",
      "250 добрый день EVENT\n",
      "251 Максим PERSON\n",
      "251 Китобизнес PERSON\n",
      "253 Дмитрий PERSON\n",
      "253 Анастасия PERSON\n",
      "300 всего доброго EVENT\n",
      "301 до свидания EVENT\n",
      "304 Добрый EVENT\n",
      "335 до свидания EVENT\n",
      "336 до свидания EVENT\n",
      "338 Анастасия PERSON\n",
      "358 здравствуйте EVENT\n",
      "358 Анастасия PERSON\n",
      "438 Вячеслав PERSON\n",
      "444 максим PERSON\n",
      "472 Дмитрий PERSON\n",
      "479 до свидания EVENT\n"
     ]
    }
   ],
   "source": [
    "# получение именованных сущностей после дообучения модели\n",
    "line_n = []\n",
    "for i, s in enumerate(df['re_text'].values):\n",
    "    doc = nlp(s)\n",
    "    if doc.ents:\n",
    "        for ent in doc.ents:\n",
    "            print(i, ent.text, ent.label_)\n",
    "            if ent.label_=='EVENT':\n",
    "                df.loc[i, 'event_mod'] = 1\n",
    "            elif ent.label_=='COMPANY':\n",
    "                df.loc[i, 'company_mod'] = 1\n",
    "            elif ent.label_=='PERSON':\n",
    "                df.loc[i, 'person_mod'] = 1\n",
    "            line_n.append(i)\n",
    "\n",
    "df[['company_mod', 'person_mod', 'event_mod']] = df[['company_mod', 'person_mod', 'event_mod']].fillna(0)"
   ]
  },
  {
   "cell_type": "code",
   "execution_count": 24,
   "id": "a44f6002",
   "metadata": {},
   "outputs": [
    {
     "data": {
      "text/html": [
       "<div>\n",
       "<style scoped>\n",
       "    .dataframe tbody tr th:only-of-type {\n",
       "        vertical-align: middle;\n",
       "    }\n",
       "\n",
       "    .dataframe tbody tr th {\n",
       "        vertical-align: top;\n",
       "    }\n",
       "\n",
       "    .dataframe thead th {\n",
       "        text-align: right;\n",
       "    }\n",
       "</style>\n",
       "<table border=\"1\" class=\"dataframe\">\n",
       "  <thead>\n",
       "    <tr style=\"text-align: right;\">\n",
       "      <th></th>\n",
       "      <th>F1</th>\n",
       "    </tr>\n",
       "  </thead>\n",
       "  <tbody>\n",
       "    <tr>\n",
       "      <th>PER</th>\n",
       "      <td>0.585366</td>\n",
       "    </tr>\n",
       "    <tr>\n",
       "      <th>ORG</th>\n",
       "      <td>0.666667</td>\n",
       "    </tr>\n",
       "    <tr>\n",
       "      <th>EVT</th>\n",
       "      <td>0.972973</td>\n",
       "    </tr>\n",
       "    <tr>\n",
       "      <th>MEAN</th>\n",
       "      <td>0.741668</td>\n",
       "    </tr>\n",
       "  </tbody>\n",
       "</table>\n",
       "</div>"
      ],
      "text/plain": [
       "            F1\n",
       "PER   0.585366\n",
       "ORG   0.666667\n",
       "EVT   0.972973\n",
       "MEAN  0.741668"
      ]
     },
     "execution_count": 24,
     "metadata": {},
     "output_type": "execute_result"
    }
   ],
   "source": [
    "# вычисление метрик для дообученной модели spaCy\n",
    "df_res = pd.DataFrame([f1_score(df['person'], df['person_mod']), \n",
    "                       f1_score(df['company'], df['company_mod']), \n",
    "                       f1_score(df['event'], df['event_mod']), 0],\n",
    "             index=['PER', 'ORG', 'EVT', 'MEAN'], columns=['F1'])\n",
    "df_res.loc['MEAN', 'F1'] = df_res.iloc[:3, 0].mean()\n",
    "df_res"
   ]
  },
  {
   "cell_type": "markdown",
   "id": "321c5730",
   "metadata": {},
   "source": [
    "> * Использование размеченных данных для дообучения модели `spaCy` позволило достичь среднего значения *F1*-меры, равного `0.74`.\n",
    "> * Лучше всего данная модель справилась с выделением событий в виде приветствий и прощаний (`EVT`) со значением метрики *F1*, равным `0.97`. Несколько хуже модель выделила имена (`PER`) и компании (`ORG`) для которых значений метрики *F1* составило соотвественно `0.59` и `0.67`.\n",
    "> * Так как данных мало, и выделить тестовую часть из них не представлялось возможным, то проверка работы дообученной модели осществлялась на тех же самых данных, на которых проводилось обучение. Это снижает достоверность полученных результатов. С целью снижения влияния данного фактора проверка работы модели было проведена на видоизменённых путём добавления разметки данных (п.2.3)."
   ]
  },
  {
   "cell_type": "markdown",
   "id": "404823fb",
   "metadata": {},
   "source": [
    "### Оформление результатов в соотвествии с поставленной задачей"
   ]
  },
  {
   "cell_type": "code",
   "execution_count": 25,
   "id": "3001fc05",
   "metadata": {},
   "outputs": [],
   "source": [
    "# получение id-шников диалогов\n",
    "dialog_nums = df['dlg_id'].unique()"
   ]
  },
  {
   "cell_type": "code",
   "execution_count": 26,
   "id": "6d4609c1",
   "metadata": {},
   "outputs": [],
   "source": [
    "# основная функция, выполняющая поставленную задачу\n",
    "def main_func(mode='hello'):\n",
    "    \"\"\"\n",
    "    input:        mode (str) - режим работы функции: `hello`   - реплики с приветствием, \n",
    "                                                     `intro`   - реплики где менеджер представил себя,\n",
    "                                                     `name`    - имя менеджера,\n",
    "                                                     `company` - название компании,\n",
    "                                                     `bye`     - реплики с прощанием\n",
    "                                                     'he_bye'  - менеджер поздоровался и попрощался\n",
    "    output: None\n",
    "    description:  Функция извлекает из реплик различные данные\n",
    "    \"\"\"\n",
    "    \n",
    "    df_res = pd.DataFrame([], index=[0,1,2,3,4,5], columns=['dlg_id', 'line_n', 'text_name_info'])\n",
    "    \n",
    "    # основной цикл перебора диалогов по их id-шникам\n",
    "    for n in dialog_nums:\n",
    "        df_res.loc[n, 'dlg_id'] = n\n",
    "        if mode=='hello' or mode=='intro' or mode=='name' or mode=='bye':\n",
    "            df_dialog = df.loc[(df['dlg_id'] == n) & (df['role'] == 'manager')]\n",
    "        elif mode=='company':\n",
    "            df_dialog = df.loc[df['dlg_id'] == n]\n",
    "        elif mode=='he_bye':\n",
    "            cnt = df.loc[(df['dlg_id'] == n)].query('hello == 1 | bye == 1').shape[0]\n",
    "            if cnt == 2:\n",
    "                df_res.loc[n, 'text_name_info'] = 'В данном диалоге менеджер поздоровался и попрощался'\n",
    "            df_dialog = df.loc[df['dlg_id'] == n]\n",
    "        \n",
    "        indexes = df_dialog.index\n",
    "        \n",
    "        # перебор реплик внутри диалога\n",
    "        for i, s in enumerate(df_dialog['text'].values):\n",
    "            doc = nlp(s)\n",
    "            for ent in doc.ents:\n",
    "                if mode=='hello':\n",
    "                    if 'добр' in (ent.text.lower()) or 'здрав' in (ent.text.lower()):\n",
    "                        df.loc[indexes[i], 'hello'] = 1\n",
    "                        df_res.loc[n, 'line_n'] =  indexes[i]\n",
    "                        df_res.loc[n, 'text_name_info'] =  ent.text\n",
    "                elif mode=='intro':\n",
    "                    if ent.label_ == 'PERSON':\n",
    "                        df_res.loc[n, 'line_n'] =  indexes[i]\n",
    "                        df_res.loc[n, 'text_name_info'] = f'{s}'\n",
    "                elif mode=='name':\n",
    "                    if ent.label_ == 'PERSON':\n",
    "                        df_res.loc[n, 'line_n'] =  indexes[i]\n",
    "                        df_res.loc[n, 'text_name_info'] = f'{ent.text.title()}'\n",
    "                elif mode=='company':\n",
    "                    if ent.label_ == 'COMPANY':\n",
    "                        df_res.loc[n, 'line_n'] =  indexes[i]\n",
    "                        df_res.loc[n, 'text_name_info'] = ent.text\n",
    "                elif mode=='bye':\n",
    "                    if 'до свид' in (ent.text.lower()) or 'всего' in (ent.text.lower()):\n",
    "                        df.loc[indexes[i], 'bye'] = 1\n",
    "                        df_res.loc[n, 'line_n'] =  indexes[i]\n",
    "                        df_res.loc[n, 'text_name_info'] = s\n",
    "                        \n",
    "    display(df_res)"
   ]
  },
  {
   "cell_type": "code",
   "execution_count": 27,
   "id": "3767066b",
   "metadata": {},
   "outputs": [
    {
     "data": {
      "text/html": [
       "<div>\n",
       "<style scoped>\n",
       "    .dataframe tbody tr th:only-of-type {\n",
       "        vertical-align: middle;\n",
       "    }\n",
       "\n",
       "    .dataframe tbody tr th {\n",
       "        vertical-align: top;\n",
       "    }\n",
       "\n",
       "    .dataframe thead th {\n",
       "        text-align: right;\n",
       "    }\n",
       "</style>\n",
       "<table border=\"1\" class=\"dataframe\">\n",
       "  <thead>\n",
       "    <tr style=\"text-align: right;\">\n",
       "      <th></th>\n",
       "      <th>dlg_id</th>\n",
       "      <th>line_n</th>\n",
       "      <th>text_name_info</th>\n",
       "    </tr>\n",
       "  </thead>\n",
       "  <tbody>\n",
       "    <tr>\n",
       "      <th>0</th>\n",
       "      <td>0</td>\n",
       "      <td>2</td>\n",
       "      <td>Добрый день</td>\n",
       "    </tr>\n",
       "    <tr>\n",
       "      <th>1</th>\n",
       "      <td>1</td>\n",
       "      <td>109</td>\n",
       "      <td>здравствуйте</td>\n",
       "    </tr>\n",
       "    <tr>\n",
       "      <th>2</th>\n",
       "      <td>2</td>\n",
       "      <td>165</td>\n",
       "      <td>Здравствуйте</td>\n",
       "    </tr>\n",
       "    <tr>\n",
       "      <th>3</th>\n",
       "      <td>3</td>\n",
       "      <td>249</td>\n",
       "      <td>Добрый день</td>\n",
       "    </tr>\n",
       "    <tr>\n",
       "      <th>4</th>\n",
       "      <td>4</td>\n",
       "      <td>304</td>\n",
       "      <td>Добрый</td>\n",
       "    </tr>\n",
       "    <tr>\n",
       "      <th>5</th>\n",
       "      <td>5</td>\n",
       "      <td>358</td>\n",
       "      <td>здравствуйте</td>\n",
       "    </tr>\n",
       "  </tbody>\n",
       "</table>\n",
       "</div>"
      ],
      "text/plain": [
       "  dlg_id line_n text_name_info\n",
       "0      0      2    Добрый день\n",
       "1      1    109   здравствуйте\n",
       "2      2    165   Здравствуйте\n",
       "3      3    249    Добрый день\n",
       "4      4    304         Добрый\n",
       "5      5    358   здравствуйте"
      ]
     },
     "metadata": {},
     "output_type": "display_data"
    }
   ],
   "source": [
    "# a. получение реплик, где менеджер поздоровался\n",
    "main_func()"
   ]
  },
  {
   "cell_type": "code",
   "execution_count": 28,
   "id": "81d35780",
   "metadata": {},
   "outputs": [
    {
     "data": {
      "text/html": [
       "<div>\n",
       "<style scoped>\n",
       "    .dataframe tbody tr th:only-of-type {\n",
       "        vertical-align: middle;\n",
       "    }\n",
       "\n",
       "    .dataframe tbody tr th {\n",
       "        vertical-align: top;\n",
       "    }\n",
       "\n",
       "    .dataframe thead th {\n",
       "        text-align: right;\n",
       "    }\n",
       "</style>\n",
       "<table border=\"1\" class=\"dataframe\">\n",
       "  <thead>\n",
       "    <tr style=\"text-align: right;\">\n",
       "      <th></th>\n",
       "      <th>dlg_id</th>\n",
       "      <th>line_n</th>\n",
       "      <th>text_name_info</th>\n",
       "    </tr>\n",
       "  </thead>\n",
       "  <tbody>\n",
       "    <tr>\n",
       "      <th>0</th>\n",
       "      <td>0</td>\n",
       "      <td>NaN</td>\n",
       "      <td>NaN</td>\n",
       "    </tr>\n",
       "    <tr>\n",
       "      <th>1</th>\n",
       "      <td>1</td>\n",
       "      <td>159</td>\n",
       "      <td>Самое только вместо инфо денис дэ е эн</td>\n",
       "    </tr>\n",
       "    <tr>\n",
       "      <th>2</th>\n",
       "      <td>2</td>\n",
       "      <td>NaN</td>\n",
       "      <td>NaN</td>\n",
       "    </tr>\n",
       "    <tr>\n",
       "      <th>3</th>\n",
       "      <td>3</td>\n",
       "      <td>NaN</td>\n",
       "      <td>NaN</td>\n",
       "    </tr>\n",
       "    <tr>\n",
       "      <th>4</th>\n",
       "      <td>4</td>\n",
       "      <td>NaN</td>\n",
       "      <td>NaN</td>\n",
       "    </tr>\n",
       "    <tr>\n",
       "      <th>5</th>\n",
       "      <td>5</td>\n",
       "      <td>358</td>\n",
       "      <td>Да да да здравствуйте анастасия меня слышно да...</td>\n",
       "    </tr>\n",
       "  </tbody>\n",
       "</table>\n",
       "</div>"
      ],
      "text/plain": [
       "  dlg_id line_n                                     text_name_info\n",
       "0      0    NaN                                                NaN\n",
       "1      1    159             Самое только вместо инфо денис дэ е эн\n",
       "2      2    NaN                                                NaN\n",
       "3      3    NaN                                                NaN\n",
       "4      4    NaN                                                NaN\n",
       "5      5    358  Да да да здравствуйте анастасия меня слышно да..."
      ]
     },
     "metadata": {},
     "output_type": "display_data"
    }
   ],
   "source": [
    "# b. получение реплик, в которых менеджер представил себя\n",
    "main_func(mode='intro')"
   ]
  },
  {
   "cell_type": "code",
   "execution_count": 29,
   "id": "97d1fecf",
   "metadata": {},
   "outputs": [
    {
     "data": {
      "text/html": [
       "<div>\n",
       "<style scoped>\n",
       "    .dataframe tbody tr th:only-of-type {\n",
       "        vertical-align: middle;\n",
       "    }\n",
       "\n",
       "    .dataframe tbody tr th {\n",
       "        vertical-align: top;\n",
       "    }\n",
       "\n",
       "    .dataframe thead th {\n",
       "        text-align: right;\n",
       "    }\n",
       "</style>\n",
       "<table border=\"1\" class=\"dataframe\">\n",
       "  <thead>\n",
       "    <tr style=\"text-align: right;\">\n",
       "      <th></th>\n",
       "      <th>dlg_id</th>\n",
       "      <th>line_n</th>\n",
       "      <th>text_name_info</th>\n",
       "    </tr>\n",
       "  </thead>\n",
       "  <tbody>\n",
       "    <tr>\n",
       "      <th>0</th>\n",
       "      <td>0</td>\n",
       "      <td>NaN</td>\n",
       "      <td>NaN</td>\n",
       "    </tr>\n",
       "    <tr>\n",
       "      <th>1</th>\n",
       "      <td>1</td>\n",
       "      <td>159</td>\n",
       "      <td>Денис</td>\n",
       "    </tr>\n",
       "    <tr>\n",
       "      <th>2</th>\n",
       "      <td>2</td>\n",
       "      <td>NaN</td>\n",
       "      <td>NaN</td>\n",
       "    </tr>\n",
       "    <tr>\n",
       "      <th>3</th>\n",
       "      <td>3</td>\n",
       "      <td>NaN</td>\n",
       "      <td>NaN</td>\n",
       "    </tr>\n",
       "    <tr>\n",
       "      <th>4</th>\n",
       "      <td>4</td>\n",
       "      <td>NaN</td>\n",
       "      <td>NaN</td>\n",
       "    </tr>\n",
       "    <tr>\n",
       "      <th>5</th>\n",
       "      <td>5</td>\n",
       "      <td>358</td>\n",
       "      <td>Анастасия</td>\n",
       "    </tr>\n",
       "  </tbody>\n",
       "</table>\n",
       "</div>"
      ],
      "text/plain": [
       "  dlg_id line_n text_name_info\n",
       "0      0    NaN            NaN\n",
       "1      1    159          Денис\n",
       "2      2    NaN            NaN\n",
       "3      3    NaN            NaN\n",
       "4      4    NaN            NaN\n",
       "5      5    358      Анастасия"
      ]
     },
     "metadata": {},
     "output_type": "display_data"
    }
   ],
   "source": [
    "# c. извлечение имени менеджера из реплик\n",
    "main_func(mode='name')"
   ]
  },
  {
   "cell_type": "code",
   "execution_count": 30,
   "id": "bd93c58e",
   "metadata": {},
   "outputs": [
    {
     "data": {
      "text/html": [
       "<div>\n",
       "<style scoped>\n",
       "    .dataframe tbody tr th:only-of-type {\n",
       "        vertical-align: middle;\n",
       "    }\n",
       "\n",
       "    .dataframe tbody tr th {\n",
       "        vertical-align: top;\n",
       "    }\n",
       "\n",
       "    .dataframe thead th {\n",
       "        text-align: right;\n",
       "    }\n",
       "</style>\n",
       "<table border=\"1\" class=\"dataframe\">\n",
       "  <thead>\n",
       "    <tr style=\"text-align: right;\">\n",
       "      <th></th>\n",
       "      <th>dlg_id</th>\n",
       "      <th>line_n</th>\n",
       "      <th>text_name_info</th>\n",
       "    </tr>\n",
       "  </thead>\n",
       "  <tbody>\n",
       "    <tr>\n",
       "      <th>0</th>\n",
       "      <td>0</td>\n",
       "      <td>3</td>\n",
       "      <td>диджитал бизнес</td>\n",
       "    </tr>\n",
       "    <tr>\n",
       "      <th>1</th>\n",
       "      <td>1</td>\n",
       "      <td>111</td>\n",
       "      <td>диджитал бизнес</td>\n",
       "    </tr>\n",
       "    <tr>\n",
       "      <th>2</th>\n",
       "      <td>2</td>\n",
       "      <td>177</td>\n",
       "      <td>Диджитал бизнес</td>\n",
       "    </tr>\n",
       "    <tr>\n",
       "      <th>3</th>\n",
       "      <td>3</td>\n",
       "      <td>NaN</td>\n",
       "      <td>NaN</td>\n",
       "    </tr>\n",
       "    <tr>\n",
       "      <th>4</th>\n",
       "      <td>4</td>\n",
       "      <td>NaN</td>\n",
       "      <td>NaN</td>\n",
       "    </tr>\n",
       "    <tr>\n",
       "      <th>5</th>\n",
       "      <td>5</td>\n",
       "      <td>NaN</td>\n",
       "      <td>NaN</td>\n",
       "    </tr>\n",
       "  </tbody>\n",
       "</table>\n",
       "</div>"
      ],
      "text/plain": [
       "  dlg_id line_n   text_name_info\n",
       "0      0      3  диджитал бизнес\n",
       "1      1    111  диджитал бизнес\n",
       "2      2    177  Диджитал бизнес\n",
       "3      3    NaN              NaN\n",
       "4      4    NaN              NaN\n",
       "5      5    NaN              NaN"
      ]
     },
     "metadata": {},
     "output_type": "display_data"
    }
   ],
   "source": [
    "# d. извлечение названий компаний\n",
    "main_func(mode='company')"
   ]
  },
  {
   "cell_type": "code",
   "execution_count": 31,
   "id": "17102c67",
   "metadata": {},
   "outputs": [
    {
     "data": {
      "text/html": [
       "<div>\n",
       "<style scoped>\n",
       "    .dataframe tbody tr th:only-of-type {\n",
       "        vertical-align: middle;\n",
       "    }\n",
       "\n",
       "    .dataframe tbody tr th {\n",
       "        vertical-align: top;\n",
       "    }\n",
       "\n",
       "    .dataframe thead th {\n",
       "        text-align: right;\n",
       "    }\n",
       "</style>\n",
       "<table border=\"1\" class=\"dataframe\">\n",
       "  <thead>\n",
       "    <tr style=\"text-align: right;\">\n",
       "      <th></th>\n",
       "      <th>dlg_id</th>\n",
       "      <th>line_n</th>\n",
       "      <th>text_name_info</th>\n",
       "    </tr>\n",
       "  </thead>\n",
       "  <tbody>\n",
       "    <tr>\n",
       "      <th>0</th>\n",
       "      <td>0</td>\n",
       "      <td>NaN</td>\n",
       "      <td>NaN</td>\n",
       "    </tr>\n",
       "    <tr>\n",
       "      <th>1</th>\n",
       "      <td>1</td>\n",
       "      <td>NaN</td>\n",
       "      <td>NaN</td>\n",
       "    </tr>\n",
       "    <tr>\n",
       "      <th>2</th>\n",
       "      <td>2</td>\n",
       "      <td>NaN</td>\n",
       "      <td>NaN</td>\n",
       "    </tr>\n",
       "    <tr>\n",
       "      <th>3</th>\n",
       "      <td>3</td>\n",
       "      <td>301</td>\n",
       "      <td>Да до свидания</td>\n",
       "    </tr>\n",
       "    <tr>\n",
       "      <th>4</th>\n",
       "      <td>4</td>\n",
       "      <td>336</td>\n",
       "      <td>Угу да до свидания</td>\n",
       "    </tr>\n",
       "    <tr>\n",
       "      <th>5</th>\n",
       "      <td>5</td>\n",
       "      <td>NaN</td>\n",
       "      <td>NaN</td>\n",
       "    </tr>\n",
       "  </tbody>\n",
       "</table>\n",
       "</div>"
      ],
      "text/plain": [
       "  dlg_id line_n      text_name_info\n",
       "0      0    NaN                 NaN\n",
       "1      1    NaN                 NaN\n",
       "2      2    NaN                 NaN\n",
       "3      3    301      Да до свидания\n",
       "4      4    336  Угу да до свидания\n",
       "5      5    NaN                 NaN"
      ]
     },
     "metadata": {},
     "output_type": "display_data"
    }
   ],
   "source": [
    "# e. получение реплик, где менеджер попрощался\n",
    "main_func(mode='bye')"
   ]
  },
  {
   "cell_type": "code",
   "execution_count": 32,
   "id": "4e5af253",
   "metadata": {},
   "outputs": [
    {
     "data": {
      "text/html": [
       "<div>\n",
       "<style scoped>\n",
       "    .dataframe tbody tr th:only-of-type {\n",
       "        vertical-align: middle;\n",
       "    }\n",
       "\n",
       "    .dataframe tbody tr th {\n",
       "        vertical-align: top;\n",
       "    }\n",
       "\n",
       "    .dataframe thead th {\n",
       "        text-align: right;\n",
       "    }\n",
       "</style>\n",
       "<table border=\"1\" class=\"dataframe\">\n",
       "  <thead>\n",
       "    <tr style=\"text-align: right;\">\n",
       "      <th></th>\n",
       "      <th>dlg_id</th>\n",
       "      <th>line_n</th>\n",
       "      <th>text_name_info</th>\n",
       "    </tr>\n",
       "  </thead>\n",
       "  <tbody>\n",
       "    <tr>\n",
       "      <th>0</th>\n",
       "      <td>0</td>\n",
       "      <td>NaN</td>\n",
       "      <td>NaN</td>\n",
       "    </tr>\n",
       "    <tr>\n",
       "      <th>1</th>\n",
       "      <td>1</td>\n",
       "      <td>NaN</td>\n",
       "      <td>NaN</td>\n",
       "    </tr>\n",
       "    <tr>\n",
       "      <th>2</th>\n",
       "      <td>2</td>\n",
       "      <td>NaN</td>\n",
       "      <td>NaN</td>\n",
       "    </tr>\n",
       "    <tr>\n",
       "      <th>3</th>\n",
       "      <td>3</td>\n",
       "      <td>NaN</td>\n",
       "      <td>В данном диалоге менеджер поздоровался и попро...</td>\n",
       "    </tr>\n",
       "    <tr>\n",
       "      <th>4</th>\n",
       "      <td>4</td>\n",
       "      <td>NaN</td>\n",
       "      <td>В данном диалоге менеджер поздоровался и попро...</td>\n",
       "    </tr>\n",
       "    <tr>\n",
       "      <th>5</th>\n",
       "      <td>5</td>\n",
       "      <td>NaN</td>\n",
       "      <td>NaN</td>\n",
       "    </tr>\n",
       "  </tbody>\n",
       "</table>\n",
       "</div>"
      ],
      "text/plain": [
       "  dlg_id line_n                                     text_name_info\n",
       "0      0    NaN                                                NaN\n",
       "1      1    NaN                                                NaN\n",
       "2      2    NaN                                                NaN\n",
       "3      3    NaN  В данном диалоге менеджер поздоровался и попро...\n",
       "4      4    NaN  В данном диалоге менеджер поздоровался и попро...\n",
       "5      5    NaN                                                NaN"
      ]
     },
     "metadata": {},
     "output_type": "display_data"
    }
   ],
   "source": [
    "# f. проверка требования к менеджеру о наличии приветствия и прощания\n",
    "main_func(mode='he_bye')"
   ]
  },
  {
   "cell_type": "markdown",
   "id": "46032d19",
   "metadata": {},
   "source": [
    "### Выводы по использованным моделям"
   ]
  },
  {
   "cell_type": "markdown",
   "id": "f7be856f",
   "metadata": {},
   "source": [
    "> * Для решения задачи использованы три подхода на основе библиотеки `spaCy`.\n",
    "> * В качестве *baseline* решения выступила предобученная модель `ru_core_news_lg` для библиотеки `spaCy`, которая позволила достичь среднего значения по *F1*-мере, равного `0.38`.\n",
    "> * Для улучшения *baseline* результата проверена гипотеза о том, что на качество работы модели может влиять отсутствие разметки в репликах. Для добавления разметки была использована библиотека `silero`. Добавление разметки ухудшило среднее значение *F1*-меры, которое снизилась до `0.29`. Ухудшение вызвано появлением большого количества ложноположительных (`False Positive`) срабатываний.\n",
    "> * И первая и вторая модели справлялись только с выделением именованных сущностей в виде имён (`PER`), но не могли выделить из реплик другие типы сущностей, такие как сущности в виде названий компаний (`ORG`) и событий в виде приветствий и прощаний (`EVT`).\n",
    "> * В качестве третьей была использована дообученая модель `ru_core_news_lg`. Данный подход обеспечил получение среднего значения *F1*-меры, равного `0.74`. Лучше всего данная модель справилась с выделением событий в виде приветствий и прощаний (`EVT`) со значением метрики *F1*, равным `0.97`. Несколько хуже модель выделила имена (`PER`) и компании (`ORG`) для которых значений метрики *F1* составило соотвественно `0.59` и `0.67`.\n",
    "> * Недостатком третьей модели стало использование для обучения и тестирования одни и тех же данных из-за того, что их объём не позволил выделить отдельные обучающую и тестовую части. Для минимизации влияния данного фактора проверка тестирование проводилось на видоизменённых (капитализированных и пунктуализированных) данных.\n",
    "> * Результаты работы лучшей (третьей) модели оформлены в соотвествии с поставленной задачей."
   ]
  },
  {
   "cell_type": "markdown",
   "id": "7929c2d0",
   "metadata": {},
   "source": [
    "## Общие выводы"
   ]
  },
  {
   "cell_type": "markdown",
   "id": "ffeb1130",
   "metadata": {},
   "source": [
    "> 1. Полученные в файлe `test_data.csv` исходные данные с диалогами загружены и проанализированы:\n",
    ">    * в процессе анализа полученных данных установлено, что они содержат `480` реплик, образующих `6` диалогов между менеджером и клиентами;\n",
    ">    * все реплики получены на основе автоматического распознавания речи и преобразования её в тексты, то есть `STT` (`speech-to-text`) модели;\n",
    ">    * решаемая задача сведена к выделению необходимых именованных сущностей (`NER`) из реплик;\n",
    ">    * в качестве контрольной метрики выбрана *F1*-мера как гармоническое среднее между точностью (*precision*) и полнотой (*recall*).\n",
    ">\n",
    ">\n",
    "> 2. Для выделения из реплик именованных сущностей использованы различные модели, и проведён их сравнительный анализ:\n",
    ">    * для решения поставленной задачи определены три базовых типа именованных сущностей, которые модель должны выделять в репликах:\n",
    ">       * `PERSON` - имя менеджера;\n",
    ">       * `COMPANY` - название компании;\n",
    ">       * `EVENT` - событие (приветствие или прощание).\n",
    ">    *  чтобы иметь возможность оценки по *F1*-мере качества работы различных моделей была произведена ручная разметка полученных данных на наличие в них именованных сущностей с использованием библиотеки `spacy_annotator` результатом которой стало присвоение найденным сущностям одной из указанных выше категорий;\n",
    ">    * в качестве *baseline* решения выступила предобученная модель `ru_core_news_lg` из библиотеки `spaCy`, которая позволила достичь среднего значения по *F1*-мере, равного `0.38`, при этом она успешно выделяла только один вид сущностей - имена (`PER`);\n",
    ">    * для улучшения *baseline* результата осуществлена попытка добавление разметки в реплики для чего была использована библиотека `silero`, что в результате лишь ухудшило среднее значение значение *F1*-меры, которая снизилась до `0.29` за счёт появления большого количества ложноположительных (`False Positive`) срабатываний;\n",
    ">    * также как и первая, вторая модели справлялась только с выделением именованных сущностей в виде имён (`PER`), но не выделяла такие сущности как названия компаний (`ORG`) и события в виде приветствий и прощаний (`EVT`);\n",
    ">    * было произведено дообучение модели `ru_core_news_lg` на размеченных данных, что обеспечило получение среднего значения *F1*-меры, равного `0.74` в основном за счёт того, что данная модель лучше всего справилась с выделением событий в виде приветствий и прощаний (`EVT`) со значением метрики *F1*, равным `0.97` и несколько хуже модель выделила имена (`PER`) и компании (`ORG`) для которых значений метрики *F1* составило соотвественно `0.59` и `0.67`;\n",
    ">    * недостатком третьей модели отмечено использование для обучения и тестирования одинаковых данных из-за того, что их объём не позволил выделить отдельные обучающую и тестовую части, поэтому для минимизации влияния данного фактора проверка тестирование проводилось на видоизменённых (капитализированных и пунктуализированных) данных;\n",
    ">    * результаты работы лучшей по *F1*-мере (третьей) модели оформлены в соотвествии с поставленной задачей."
   ]
  },
  {
   "cell_type": "code",
   "execution_count": null,
   "id": "35dc99d8",
   "metadata": {},
   "outputs": [],
   "source": []
  },
  {
   "cell_type": "code",
   "execution_count": null,
   "id": "13fe3699",
   "metadata": {},
   "outputs": [],
   "source": []
  }
 ],
 "metadata": {
  "kernelspec": {
   "display_name": "Python 3 (ipykernel)",
   "language": "python",
   "name": "python3"
  },
  "language_info": {
   "codemirror_mode": {
    "name": "ipython",
    "version": 3
   },
   "file_extension": ".py",
   "mimetype": "text/x-python",
   "name": "python",
   "nbconvert_exporter": "python",
   "pygments_lexer": "ipython3",
   "version": "3.8.13"
  },
  "toc": {
   "base_numbering": 1,
   "nav_menu": {},
   "number_sections": true,
   "sideBar": true,
   "skip_h1_title": true,
   "title_cell": "Table of Contents",
   "title_sidebar": "Contents",
   "toc_cell": false,
   "toc_position": {},
   "toc_section_display": true,
   "toc_window_display": true
  }
 },
 "nbformat": 4,
 "nbformat_minor": 5
}
